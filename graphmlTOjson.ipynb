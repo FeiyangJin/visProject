{
 "cells": [
  {
   "cell_type": "code",
   "execution_count": 1,
   "metadata": {},
   "outputs": [],
   "source": [
    "import networkx as nx\n",
    "import json"
   ]
  },
  {
   "cell_type": "code",
   "execution_count": 2,
   "metadata": {},
   "outputs": [],
   "source": [
    "# Replace 'your_graph.graphml' with the path to your GraphML file\n",
    "graphml_file = 'test_only.graphml'\n",
    "\n",
    "# Read the GraphML file into a NetworkX graph\n",
    "G = nx.read_graphml(graphml_file)"
   ]
  },
  {
   "cell_type": "code",
   "execution_count": 3,
   "metadata": {},
   "outputs": [
    {
     "name": "stdout",
     "output_type": "stream",
     "text": [
      "Conversion completed. JSON file saved as 'output.json'.\n"
     ]
    }
   ],
   "source": [
    "# Convert the graph data to a JSON-serializable format\n",
    "data = {\n",
    "    \"nodes\": [],\n",
    "    \"links\": []\n",
    "}\n",
    "\n",
    "for node_id, node_data in G.nodes(data=True):\n",
    "    data[\"nodes\"].append({\"id\": node_id, **node_data})\n",
    "\n",
    "for u, v, edge_data in G.edges(data=True):\n",
    "    data[\"links\"].append({\"source\": u, \"target\": v, **edge_data})\n",
    "\n",
    "# Save the data as JSON\n",
    "with open('output.json', 'w') as json_file:\n",
    "    json.dump(data, json_file, indent=4)\n",
    "\n",
    "print(\"Conversion completed. JSON file saved as 'output.json'.\")"
   ]
  },
  {
   "cell_type": "code",
   "execution_count": null,
   "metadata": {},
   "outputs": [],
   "source": []
  }
 ],
 "metadata": {
  "kernelspec": {
   "display_name": "Python 3",
   "language": "python",
   "name": "python3"
  },
  "language_info": {
   "codemirror_mode": {
    "name": "ipython",
    "version": 3
   },
   "file_extension": ".py",
   "mimetype": "text/x-python",
   "name": "python",
   "nbconvert_exporter": "python",
   "pygments_lexer": "ipython3",
   "version": "3.8.3"
  }
 },
 "nbformat": 4,
 "nbformat_minor": 4
}
