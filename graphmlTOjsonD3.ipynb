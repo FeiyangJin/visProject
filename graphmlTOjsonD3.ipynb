{
 "cells": [
  {
   "cell_type": "code",
   "execution_count": 44,
   "metadata": {},
   "outputs": [],
   "source": [
    "import networkx as nx\n",
    "from networkx.readwrite import json_graph\n",
    "\n",
    "import json\n",
    "from datetime import datetime\n",
    "import os"
   ]
  },
  {
   "cell_type": "code",
   "execution_count": 45,
   "metadata": {},
   "outputs": [],
   "source": [
    "format_data = \"%y%m%d-%H%M%S\"\n",
    "x = datetime.now()\n",
    "time = x.strftime(format_data)\n",
    "filename = f'output{time}.json'\n",
    "\n",
    "dataDir = \"data\"\n",
    "outputfile = os.path.join(dataDir, filename)\n",
    "inputfile = os.path.join(dataDir, \"test_only.graphml\")\n",
    "\n",
    "def write_to_file(path: str, content:str):\n",
    "    with open(path, 'w') as f:\n",
    "        f.write(content)\n",
    "    return"
   ]
  },
  {
   "cell_type": "code",
   "execution_count": 46,
   "metadata": {
    "scrolled": true
   },
   "outputs": [],
   "source": [
    "G = nx.read_graphml(inputfile)\n",
    "data = json_graph.node_link_data(G)"
   ]
  },
  {
   "cell_type": "code",
   "execution_count": 47,
   "metadata": {},
   "outputs": [],
   "source": [
    "for node in data['nodes']:\n",
    "    node[\"active\"] = True\n",
    "    node[\"hidden\"] = False\n",
    "\n",
    "for edge in data['links']:\n",
    "    edge[\"hidden\"] = False"
   ]
  },
  {
   "cell_type": "code",
   "execution_count": 48,
   "metadata": {},
   "outputs": [
    {
     "name": "stdout",
     "output_type": "stream",
     "text": [
      "Conversion completed. JSON file saved as data\\output230920-152805.json\n"
     ]
    }
   ],
   "source": [
    "jsonData = json.dumps(data, indent=4)\n",
    "\n",
    "write_to_file(outputfile, jsonData)\n",
    "print(f'Conversion completed. JSON file saved as {outputfile}')"
   ]
  },
  {
   "cell_type": "code",
   "execution_count": null,
   "metadata": {},
   "outputs": [],
   "source": []
  }
 ],
 "metadata": {
  "kernelspec": {
   "display_name": "Python 3",
   "language": "python",
   "name": "python3"
  },
  "language_info": {
   "codemirror_mode": {
    "name": "ipython",
    "version": 3
   },
   "file_extension": ".py",
   "mimetype": "text/x-python",
   "name": "python",
   "nbconvert_exporter": "python",
   "pygments_lexer": "ipython3",
   "version": "3.8.3"
  }
 },
 "nbformat": 4,
 "nbformat_minor": 4
}
